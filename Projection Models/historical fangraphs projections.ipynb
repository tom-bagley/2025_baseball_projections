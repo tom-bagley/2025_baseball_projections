{
 "cells": [
  {
   "cell_type": "markdown",
   "id": "1549e151-b702-485e-a42f-b53ae5415d05",
   "metadata": {},
   "source": [
    "# Currently test a way of getting historical projections to compare to my models"
   ]
  },
  {
   "cell_type": "code",
   "execution_count": 2,
   "id": "4a6537ff-6849-4eb0-99d5-255bed7ca830",
   "metadata": {},
   "outputs": [],
   "source": [
    "import pandas as pd"
   ]
  },
  {
   "cell_type": "code",
   "execution_count": 19,
   "id": "a4abb192",
   "metadata": {},
   "outputs": [
    {
     "name": "stderr",
     "output_type": "stream",
     "text": [
      "C:\\Users\\thoma\\AppData\\Local\\Temp\\ipykernel_38640\\949193372.py:1: DtypeWarning: Columns (60) have mixed types. Specify dtype option on import or set low_memory=False.\n",
      "  actual = pd.read_csv('../Resources/all_data.csv')\n"
     ]
    }
   ],
   "source": [
    "actual = pd.read_csv('../Resources/all_data.csv')\n",
    "actual = actual[['IDfg','Season', 'Name', 'H', '1B', '2B', '3B', 'HR', 'R', 'RBI', 'BB', 'SH', 'SB', 'wRC', 'WAR', 'G', 'AB', 'PA', 'AVG', 'BB%','OBP', 'SLG', 'OPS', 'ISO', 'wRAA', 'wRC+']]\n",
    "actual = actual[(actual['Season'] >= 2010) & (actual['Season'] <= 2024)]\n",
    "actual['IDfg'] = actual['IDfg'].astype(str)"
   ]
  },
  {
   "cell_type": "code",
   "execution_count": 3,
   "id": "7416c9a0",
   "metadata": {},
   "outputs": [],
   "source": [
    "file_path = f\"../Resources/steamer_preseason_projections/all_steamer_data.csv\"\n",
    "df = pd.read_csv(file_path)"
   ]
  },
  {
   "cell_type": "code",
   "execution_count": 4,
   "id": "dd4707b8",
   "metadata": {},
   "outputs": [],
   "source": [
    "columns_to_keep = ['IDfg','Season', 'Name','Team', 'H', '1B', '2B', '3B', 'HR', 'R', 'RBI', 'BB', 'SH', 'SB', 'wRC', 'WAR', 'G', 'AB', 'PA', 'AVG', 'BB%','OBP', 'SLG', 'OPS', 'ISO', 'wRAA', 'wRC+']\n",
    "df = df[[col for col in columns_to_keep if col in df.columns]]\n"
   ]
  },
  {
   "cell_type": "code",
   "execution_count": 5,
   "id": "87752dc6",
   "metadata": {},
   "outputs": [],
   "source": [
    "df = df.rename(columns={col: f'Projected_{col}' for col in df.columns if col not in ['IDfg','Name', 'Season', 'Team']})"
   ]
  },
  {
   "cell_type": "code",
   "execution_count": 7,
   "id": "4eef3157",
   "metadata": {},
   "outputs": [
    {
     "name": "stderr",
     "output_type": "stream",
     "text": [
      "C:\\Users\\thoma\\AppData\\Local\\Temp\\ipykernel_31936\\4014908540.py:3: DeprecationWarning: DataFrameGroupBy.apply operated on the grouping columns. This behavior is deprecated, and in a future version of pandas the grouping columns will be excluded from the operation. Either pass `include_groups=False` to exclude the groupings or explicitly select the grouping columns after groupby to silence this warning.\n",
      "  .apply(lambda x: x.nlargest(15, 'Projected_PA'))\n"
     ]
    }
   ],
   "source": [
    "steamer_top15 = (\n",
    "    df.groupby(['Season', 'Team'], group_keys=False)\n",
    "    .apply(lambda x: x.nlargest(15, 'Projected_PA'))\n",
    ")"
   ]
  },
  {
   "cell_type": "code",
   "execution_count": 8,
   "id": "341377d7",
   "metadata": {},
   "outputs": [
    {
     "data": {
      "text/plain": [
       "(5850, 21)"
      ]
     },
     "execution_count": 8,
     "metadata": {},
     "output_type": "execute_result"
    }
   ],
   "source": [
    "steamer_top15.shape"
   ]
  },
  {
   "cell_type": "code",
   "execution_count": null,
   "id": "3c08bcba",
   "metadata": {},
   "outputs": [],
   "source": [
    "steamer_df = pd.merge(df, actual, on=['IDfg', 'Season'], how='inner')"
   ]
  },
  {
   "cell_type": "code",
   "execution_count": 23,
   "id": "01ac9e16",
   "metadata": {},
   "outputs": [],
   "source": [
    "steamer_df = pd.merge(df, actual, on=['IDfg', 'Season'], how='inner')\n",
    "steamer_df = steamer_df.drop(columns=['Name_y'])\n",
    "steamer_df = steamer_df.rename(columns={'Name_x': 'Name'})\n",
    "steamer_df.to_csv('../Projection_Results/steamer.csv', index=False)\n"
   ]
  },
  {
   "cell_type": "code",
   "execution_count": 87,
   "id": "2320d561",
   "metadata": {},
   "outputs": [],
   "source": [
    "file_path = f\"../Resources/zips_preseason_projections/all_zips_data.csv\"\n",
    "df = pd.read_csv(file_path)"
   ]
  },
  {
   "cell_type": "code",
   "execution_count": 88,
   "id": "e7c920b9",
   "metadata": {},
   "outputs": [],
   "source": [
    "columns_to_keep = ['IDfg','Season', 'Name', 'H', '1B', '2B', '3B', 'HR', 'R', 'RBI', 'BB', 'SH', 'SB', 'wRC', 'WAR', 'G', 'AB', 'PA', 'AVG', 'BB%','OBP', 'SLG', 'OPS', 'ISO', 'wRAA', 'wRC+']\n",
    "df = df[[col for col in columns_to_keep if col in df.columns]]"
   ]
  },
  {
   "cell_type": "code",
   "execution_count": 89,
   "id": "23d72b94",
   "metadata": {},
   "outputs": [],
   "source": [
    "df = df.rename(columns={col: f'Projected_{col}' for col in df.columns if col not in ['IDfg','Name', 'Season']})"
   ]
  },
  {
   "cell_type": "code",
   "execution_count": 90,
   "id": "8161a79b",
   "metadata": {},
   "outputs": [],
   "source": [
    "zips_df = pd.merge(df, actual, on=['IDfg', 'Season'], how='inner')\n",
    "zips_df = zips_df.drop(columns=['Name_y'])\n",
    "zips_df = zips_df.rename(columns={'Name_x': 'Name'})\n",
    "zips_df.to_csv('../Projection_Results/zips.csv', index=False)"
   ]
  },
  {
   "cell_type": "code",
   "execution_count": null,
   "id": "e51fb793",
   "metadata": {},
   "outputs": [],
   "source": []
  }
 ],
 "metadata": {
  "kernelspec": {
   "display_name": "baseball_env",
   "language": "python",
   "name": "python3"
  },
  "language_info": {
   "codemirror_mode": {
    "name": "ipython",
    "version": 3
   },
   "file_extension": ".py",
   "mimetype": "text/x-python",
   "name": "python",
   "nbconvert_exporter": "python",
   "pygments_lexer": "ipython3",
   "version": "3.13.2"
  }
 },
 "nbformat": 4,
 "nbformat_minor": 5
}
