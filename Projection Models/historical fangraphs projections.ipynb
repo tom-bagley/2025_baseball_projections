{
 "cells": [
  {
   "cell_type": "markdown",
   "id": "1549e151-b702-485e-a42f-b53ae5415d05",
   "metadata": {},
   "source": [
    "# Currently test a way of getting historical projections to compare to my models"
   ]
  },
  {
   "cell_type": "code",
   "execution_count": 1,
   "id": "4a6537ff-6849-4eb0-99d5-255bed7ca830",
   "metadata": {},
   "outputs": [],
   "source": [
    "import pandas as pd\n",
    "import unicodedata"
   ]
  },
  {
   "cell_type": "code",
   "execution_count": 14,
   "id": "a4abb192",
   "metadata": {},
   "outputs": [
    {
     "name": "stderr",
     "output_type": "stream",
     "text": [
      "C:\\Users\\thoma\\AppData\\Local\\Temp\\ipykernel_33780\\1461721172.py:1: DtypeWarning: Columns (60) have mixed types. Specify dtype option on import or set low_memory=False.\n",
      "  actual = pd.read_csv('../Resources/all_data.csv')\n"
     ]
    }
   ],
   "source": [
    "actual = pd.read_csv('../Resources/all_data.csv')\n",
    "actual = actual[['IDfg','Season', 'Name', 'H', '1B', '2B', '3B', 'HR', 'R', 'RBI', 'BB', 'SH', 'SB', 'wRC', 'WAR', 'G', 'AB', 'PA', 'AVG', 'BB%', 'OPS', 'ISO', 'wRAA', 'wRC+']]\n",
    "actual = actual[(actual['Season'] >= 2010) & (actual['Season'] <= 2024)]\n",
    "actual['IDfg'] = actual['IDfg'].astype('object')"
   ]
  },
  {
   "cell_type": "code",
   "execution_count": 4,
   "id": "7416c9a0",
   "metadata": {},
   "outputs": [],
   "source": [
    "file_path = f\"../Resources/steamer_preseason_projections/all_steamer_data.csv\"\n",
    "df = pd.read_csv(file_path)"
   ]
  },
  {
   "cell_type": "code",
   "execution_count": null,
   "id": "dd4707b8",
   "metadata": {},
   "outputs": [],
   "source": [
    "columns_to_keep = ['IDfg','Season', 'Name', 'H', '1B', '2B', '3B', 'HR', 'R', 'RBI', 'BB', 'SH', 'SB', 'wRC', 'WAR', 'G', 'AB', 'PA', 'AVG', 'BB%', 'OPS', 'ISO', 'wRAA', 'wRC+']\n",
    "df = df[[col for col in columns_to_keep if col in df.columns]]\n"
   ]
  },
  {
   "cell_type": "code",
   "execution_count": 6,
   "id": "87752dc6",
   "metadata": {},
   "outputs": [],
   "source": [
    "df = df.rename(columns={col: f'Projected_{col}' for col in df.columns if col not in ['IDfg','Name', 'Season']})"
   ]
  },
  {
   "cell_type": "code",
   "execution_count": 15,
   "id": "01ac9e16",
   "metadata": {},
   "outputs": [],
   "source": [
    "steamer_df = pd.merge(df, actual, on=['IDfg', 'Season'], how='inner')"
   ]
  },
  {
   "cell_type": "code",
   "execution_count": 16,
   "id": "5ef5b577",
   "metadata": {},
   "outputs": [
    {
     "data": {
      "text/html": [
       "<div>\n",
       "<style scoped>\n",
       "    .dataframe tbody tr th:only-of-type {\n",
       "        vertical-align: middle;\n",
       "    }\n",
       "\n",
       "    .dataframe tbody tr th {\n",
       "        vertical-align: top;\n",
       "    }\n",
       "\n",
       "    .dataframe thead th {\n",
       "        text-align: right;\n",
       "    }\n",
       "</style>\n",
       "<table border=\"1\" class=\"dataframe\">\n",
       "  <thead>\n",
       "    <tr style=\"text-align: right;\">\n",
       "      <th></th>\n",
       "      <th>IDfg</th>\n",
       "      <th>Season</th>\n",
       "      <th>Name_x</th>\n",
       "      <th>Projected_HR</th>\n",
       "      <th>Projected_R</th>\n",
       "      <th>Projected_RBI</th>\n",
       "      <th>Projected_SB</th>\n",
       "      <th>Projected_WAR</th>\n",
       "      <th>Projected_G</th>\n",
       "      <th>Projected_PA</th>\n",
       "      <th>...</th>\n",
       "      <th>WAR</th>\n",
       "      <th>G</th>\n",
       "      <th>AB</th>\n",
       "      <th>PA</th>\n",
       "      <th>AVG</th>\n",
       "      <th>BB%</th>\n",
       "      <th>OPS</th>\n",
       "      <th>ISO</th>\n",
       "      <th>wRAA</th>\n",
       "      <th>wRC+</th>\n",
       "    </tr>\n",
       "  </thead>\n",
       "  <tbody>\n",
       "  </tbody>\n",
       "</table>\n",
       "<p>0 rows × 36 columns</p>\n",
       "</div>"
      ],
      "text/plain": [
       "Empty DataFrame\n",
       "Columns: [IDfg, Season, Name_x, Projected_HR, Projected_R, Projected_RBI, Projected_SB, Projected_WAR, Projected_G, Projected_PA, Projected_AVG, Projected_BB%, Projected_ISO, Projected_wRC+, Name_y, H, 1B, 2B, 3B, HR, R, RBI, BB, SH, SB, wRC, WAR, G, AB, PA, AVG, BB%, OPS, ISO, wRAA, wRC+]\n",
       "Index: []\n",
       "\n",
       "[0 rows x 36 columns]"
      ]
     },
     "execution_count": 16,
     "metadata": {},
     "output_type": "execute_result"
    }
   ],
   "source": [
    "steamer_df"
   ]
  },
  {
   "cell_type": "code",
   "execution_count": 125,
   "id": "cc8e8f37",
   "metadata": {},
   "outputs": [],
   "source": [
    "# List of years\n",
    "years = list(range(2012, 2025))\n",
    "\n",
    "# List to store DataFrames\n",
    "dfs = []\n",
    "\n",
    "# Define the columns you want to keep\n",
    "columns_to_keep = ['Season', 'Name', 'H', '1B', '2B', '3B', 'HR', 'R', 'RBI', 'BB', 'SH', 'SB', 'wRC', 'WAR', 'G', 'AB', 'PA', 'AVG', 'BB%', 'OPS', 'ISO', 'wRAA', 'wRC+']\n",
    "\n",
    "\n",
    "for year in years:\n",
    "    file_path = f\"../Resources/steamer_preseason_projections/steamer_projections_preseason_{year}.csv\"\n",
    "    df = pd.read_csv(file_path)\n",
    "\n",
    "    # Ensure only the specified columns are kept (if they exist in the dataset)\n",
    "    df = df[[col for col in columns_to_keep if col in df.columns]]\n",
    "\n",
    "    # Add the 'Season' column\n",
    "    df['Season'] = year  \n",
    "\n",
    "    # Rename stat columns to \"Projected_{stat}\"\n",
    "    df = df.rename(columns={col: f'Projected_{col}' for col in df.columns if col not in ['Name', 'Season']})\n",
    "\n",
    "    # Reorder columns to ensure 'Season' comes right after 'Name'\n",
    "    column_order = ['Name', 'Season'] + [col for col in df.columns if col not in ['Name', 'Season']]\n",
    "    df = df[column_order]\n",
    "\n",
    "    dfs.append(df)\n",
    "\n",
    "# Concatenate all DataFrames into one\n",
    "steamer_combined = pd.concat(dfs, ignore_index=True)\n",
    "\n"
   ]
  },
  {
   "cell_type": "code",
   "execution_count": 126,
   "id": "410fe676",
   "metadata": {},
   "outputs": [],
   "source": [
    "def remove_accents(text):\n",
    "    return ''.join(c for c in unicodedata.normalize('NFKD', text) if not unicodedata.combining(c))"
   ]
  },
  {
   "cell_type": "code",
   "execution_count": 127,
   "id": "662e55a9",
   "metadata": {},
   "outputs": [],
   "source": [
    "steamer_combined = steamer_combined[(steamer_combined['Projected_PA'] > 10)]\n",
    "steamer_combined = steamer_combined.drop_duplicates(subset=['Name', 'Season'])"
   ]
  },
  {
   "cell_type": "code",
   "execution_count": 128,
   "id": "da996103",
   "metadata": {},
   "outputs": [],
   "source": [
    "steamer_combined['Name'] = steamer_combined['Name'].apply(remove_accents)\n",
    "actual['Name'] = actual['Name'].apply(remove_accents)"
   ]
  },
  {
   "cell_type": "code",
   "execution_count": 130,
   "id": "d1c14d05",
   "metadata": {},
   "outputs": [],
   "source": [
    "steamer_df = pd.merge(steamer_combined, actual, on=['Name', 'Season'], how='inner')\n",
    "steamer_df.to_csv('../Projection_Results/steamer.csv', index=False)"
   ]
  },
  {
   "cell_type": "code",
   "execution_count": 131,
   "id": "d64543eb",
   "metadata": {},
   "outputs": [
    {
     "data": {
      "text/plain": [
       "(6748, 44)"
      ]
     },
     "execution_count": 131,
     "metadata": {},
     "output_type": "execute_result"
    }
   ],
   "source": [
    "steamer_df.shape"
   ]
  },
  {
   "cell_type": "code",
   "execution_count": 136,
   "id": "0a3b6021",
   "metadata": {},
   "outputs": [],
   "source": [
    "# List of years\n",
    "years = list(range(2010, 2025))\n",
    "\n",
    "# List to store DataFrames\n",
    "dfs = []\n",
    "\n",
    "# Define the columns you want to keep\n",
    "columns_to_keep = ['Season', 'Name', 'H', '1B', '2B', '3B', 'HR', 'R', 'RBI', 'BB', 'SH', 'SB', 'wRC', 'WAR', 'G', 'AB', 'PA', 'AVG', 'BB%', 'OPS', 'ISO', 'wRAA', 'wRC+']\n",
    "\n",
    "\n",
    "for year in years:\n",
    "    file_path = f\"../Resources/zips_preseason_projections/zips_projections_preseason_{year}.csv\"\n",
    "    df = pd.read_csv(file_path)\n",
    "\n",
    "    # Ensure only the specified columns are kept (if they exist in the dataset)\n",
    "    df = df[[col for col in columns_to_keep if col in df.columns]]\n",
    "\n",
    "    # Add the 'Season' column\n",
    "    df['Season'] = year  \n",
    "\n",
    "    # Rename stat columns to \"Projected_{stat}\"\n",
    "    df = df.rename(columns={col: f'Projected_{col}' for col in df.columns if col not in ['Name', 'Season']})\n",
    "\n",
    "    # Reorder columns to ensure 'Season' comes right after 'Name'\n",
    "    column_order = ['Name', 'Season'] + [col for col in df.columns if col not in ['Name', 'Season']]\n",
    "    df = df[column_order]\n",
    "\n",
    "    dfs.append(df)\n",
    "\n",
    "# Concatenate all DataFrames into one\n",
    "zips_combined = pd.concat(dfs, ignore_index=True)"
   ]
  },
  {
   "cell_type": "code",
   "execution_count": 137,
   "id": "2b323d12",
   "metadata": {},
   "outputs": [],
   "source": [
    "zips_combined = zips_combined[(zips_combined['Projected_PA'] > 10)]\n",
    "zips_combined = zips_combined.drop_duplicates(subset=['Name', 'Season'])"
   ]
  },
  {
   "cell_type": "code",
   "execution_count": 142,
   "id": "3aed667a",
   "metadata": {},
   "outputs": [
    {
     "data": {
      "text/plain": [
       "(18654, 23)"
      ]
     },
     "execution_count": 142,
     "metadata": {},
     "output_type": "execute_result"
    }
   ],
   "source": [
    "zips_combined.shape"
   ]
  },
  {
   "cell_type": "code",
   "execution_count": 141,
   "id": "36803583",
   "metadata": {},
   "outputs": [],
   "source": [
    "zips_combined = zips_combined.dropna(subset=['Name'])"
   ]
  },
  {
   "cell_type": "code",
   "execution_count": 143,
   "id": "893bc394",
   "metadata": {},
   "outputs": [
    {
     "name": "stderr",
     "output_type": "stream",
     "text": [
      "C:\\Users\\thoma\\AppData\\Local\\Temp\\ipykernel_18364\\3553679501.py:1: SettingWithCopyWarning: \n",
      "A value is trying to be set on a copy of a slice from a DataFrame.\n",
      "Try using .loc[row_indexer,col_indexer] = value instead\n",
      "\n",
      "See the caveats in the documentation: https://pandas.pydata.org/pandas-docs/stable/user_guide/indexing.html#returning-a-view-versus-a-copy\n",
      "  zips_combined['Name'] = zips_combined['Name'].apply(remove_accents)\n"
     ]
    }
   ],
   "source": [
    "zips_combined['Name'] = zips_combined['Name'].apply(remove_accents)"
   ]
  },
  {
   "cell_type": "code",
   "execution_count": 144,
   "id": "e736051c",
   "metadata": {},
   "outputs": [],
   "source": [
    "zips_df = pd.merge(zips_combined, actual, on=['Name', 'Season'], how='inner')\n",
    "zips_df.to_csv('../Projection_Results/zips.csv', index=False)"
   ]
  },
  {
   "cell_type": "code",
   "execution_count": null,
   "id": "2320d561",
   "metadata": {},
   "outputs": [],
   "source": []
  }
 ],
 "metadata": {
  "kernelspec": {
   "display_name": "baseball_env",
   "language": "python",
   "name": "python3"
  },
  "language_info": {
   "codemirror_mode": {
    "name": "ipython",
    "version": 3
   },
   "file_extension": ".py",
   "mimetype": "text/x-python",
   "name": "python",
   "nbconvert_exporter": "python",
   "pygments_lexer": "ipython3",
   "version": "3.13.2"
  }
 },
 "nbformat": 4,
 "nbformat_minor": 5
}
